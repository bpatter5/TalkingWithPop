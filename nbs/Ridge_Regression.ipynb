{
 "cells": [
  {
   "cell_type": "markdown",
   "metadata": {},
   "source": [
    "# OLS vs Ridge -  A Comparison\n",
    "\n",
    "Standard OLS solves: $\\hat{\\beta}=\\{argmin_{\\beta}\\sum_{i=1}^{N}(y_{i}-\\beta_{0}-\\sum_{j=1}^{p}x_{ij}\\beta_{j})^{2}\\}$ solutions for which can be shown in matrix form to be:\n",
    "\n",
    "- $\\hat{\\beta}=(X^{T}X)^{-1}X^{T}y$\n",
    "\n",
    "Ridge regression adds an $\\ell_{2}$ penalty to the OLS minimization problem and becomes: \n",
    "$\\hat{\\beta}_{ridge}=\\{argmin_{\\beta}\\sum_{i=1}^{N}(y_{i}-\\beta_{0}-\\sum_{j=1}^{p}x_{ij}\\beta_{j})^{2} + \\lambda\\sum_{j=1}^{p}\\beta_{j}^{2}\\}$\n",
    " the solutions shown in matrix form become:\n",
    " - $\\hat{\\beta}_{ridge}=(X^{T}X+\\lambda I)^{-1}X^{T}y)$\n",
    "\n",
    "To start we need a dataset to work with. I'll use the [communities and crime](https://archive.ics.uci.edu/ml/datasets/Communities+and+Crime) dataset from the UCI machine learning repository to compare and contrast the ridge and OLS solutions. I'll load data using `read.delim` and omit the categorical variables in the dataset by removing the first 6 columns and assigning that to the matrix `X`. In addition, I'm taking all the `NA`s and assigning them a value of `0`.  "
   ]
  },
  {
   "cell_type": "code",
   "execution_count": 23,
   "metadata": {
    "collapsed": true
   },
   "outputs": [],
   "source": [
    "communities_crime <- read.delim('http://archive.ics.uci.edu/ml/machine-learning-databases/communities/communities.data', header = FALSE, sep=\",\", na.strings='?')\n",
    "yActual  <- communities_crime[,ncol(communities_crime)]\n",
    "X <- as.matrix(communities_crime[, 7:ncol(communities_crime)-1])\n",
    "colnames(X) <- c(1:ncol(X))\n",
    "X[is.na(X)] <- 0"
   ]
  },
  {
   "cell_type": "code",
   "execution_count": 24,
   "metadata": {
    "collapsed": false
   },
   "outputs": [
    {
     "data": {
      "text/html": [
       "<ol class=list-inline>\n",
       "\t<li>0.2</li>\n",
       "\t<li>0.67</li>\n",
       "\t<li>0.43</li>\n",
       "\t<li>0.12</li>\n",
       "\t<li>0.03</li>\n",
       "\t<li>0.14</li>\n",
       "</ol>\n"
      ],
      "text/latex": [
       "\\begin{enumerate*}\n",
       "\\item 0.2\n",
       "\\item 0.67\n",
       "\\item 0.43\n",
       "\\item 0.12\n",
       "\\item 0.03\n",
       "\\item 0.14\n",
       "\\end{enumerate*}\n"
      ],
      "text/markdown": [
       "1. 0.2\n",
       "2. 0.67\n",
       "3. 0.43\n",
       "4. 0.12\n",
       "5. 0.03\n",
       "6. 0.14\n",
       "\n",
       "\n"
      ],
      "text/plain": [
       "[1] 0.20 0.67 0.43 0.12 0.03 0.14"
      ]
     },
     "metadata": {},
     "output_type": "display_data"
    },
    {
     "data": {
      "text/html": [
       "<table>\n",
       "<thead><tr><th scope=col>1</th><th scope=col>2</th><th scope=col>3</th><th scope=col>4</th><th scope=col>5</th><th scope=col>6</th><th scope=col>7</th><th scope=col>8</th><th scope=col>9</th><th scope=col>10</th><th scope=col>⋯</th><th scope=col>113</th><th scope=col>114</th><th scope=col>115</th><th scope=col>116</th><th scope=col>117</th><th scope=col>118</th><th scope=col>119</th><th scope=col>120</th><th scope=col>121</th><th scope=col>122</th></tr></thead>\n",
       "<tbody>\n",
       "\t<tr><td>0.19</td><td>0.33</td><td>0.02</td><td>0.90</td><td>0.12</td><td>0.17</td><td>0.34</td><td>0.47</td><td>0.29</td><td>0.32</td><td>⋯   </td><td>0.29</td><td>0.12</td><td>0.26</td><td>0.20</td><td>0.06</td><td>0.04</td><td>0.9 </td><td>0.5 </td><td>0.32</td><td>0.14</td></tr>\n",
       "\t<tr><td>0.00</td><td>0.16</td><td>0.12</td><td>0.74</td><td>0.45</td><td>0.07</td><td>0.26</td><td>0.59</td><td>0.35</td><td>0.27</td><td>⋯   </td><td>0.00</td><td>0.02</td><td>0.12</td><td>0.45</td><td>0.00</td><td>0.00</td><td>0.0 </td><td>0.0 </td><td>0.00</td><td>0.00</td></tr>\n",
       "\t<tr><td>0.00</td><td>0.42</td><td>0.49</td><td>0.56</td><td>0.17</td><td>0.04</td><td>0.39</td><td>0.47</td><td>0.28</td><td>0.32</td><td>⋯   </td><td>0.00</td><td>0.01</td><td>0.21</td><td>0.02</td><td>0.00</td><td>0.00</td><td>0.0 </td><td>0.0 </td><td>0.00</td><td>0.00</td></tr>\n",
       "\t<tr><td>0.04</td><td>0.77</td><td>1.00</td><td>0.08</td><td>0.12</td><td>0.10</td><td>0.51</td><td>0.50</td><td>0.34</td><td>0.21</td><td>⋯   </td><td>0.00</td><td>0.02</td><td>0.39</td><td>0.28</td><td>0.00</td><td>0.00</td><td>0.0 </td><td>0.0 </td><td>0.00</td><td>0.00</td></tr>\n",
       "\t<tr><td>0.01</td><td>0.55</td><td>0.02</td><td>0.95</td><td>0.09</td><td>0.05</td><td>0.38</td><td>0.38</td><td>0.23</td><td>0.36</td><td>⋯   </td><td>0.00</td><td>0.04</td><td>0.09</td><td>0.02</td><td>0.00</td><td>0.00</td><td>0.0 </td><td>0.0 </td><td>0.00</td><td>0.00</td></tr>\n",
       "\t<tr><td>0.02</td><td>0.28</td><td>0.06</td><td>0.54</td><td>1.00</td><td>0.25</td><td>0.31</td><td>0.48</td><td>0.27</td><td>0.37</td><td>⋯   </td><td>0.00</td><td>0.01</td><td>0.58</td><td>0.10</td><td>0.00</td><td>0.00</td><td>0.0 </td><td>0.0 </td><td>0.00</td><td>0.00</td></tr>\n",
       "</tbody>\n",
       "</table>\n"
      ],
      "text/latex": [
       "\\begin{tabular}{llllllllllllllllllllllllllllllllllllllllllllllllllllllllllllllllllllllllllllllllllllllllllllllllllllllllllllllllllllllllll}\n",
       " 1 & 2 & 3 & 4 & 5 & 6 & 7 & 8 & 9 & 10 & ⋯ & 113 & 114 & 115 & 116 & 117 & 118 & 119 & 120 & 121 & 122\\\\\n",
       "\\hline\n",
       "\t 0.19 & 0.33 & 0.02 & 0.90 & 0.12 & 0.17 & 0.34 & 0.47 & 0.29 & 0.32 & ⋯    & 0.29 & 0.12 & 0.26 & 0.20 & 0.06 & 0.04 & 0.9  & 0.5  & 0.32 & 0.14\\\\\n",
       "\t 0.00 & 0.16 & 0.12 & 0.74 & 0.45 & 0.07 & 0.26 & 0.59 & 0.35 & 0.27 & ⋯    & 0.00 & 0.02 & 0.12 & 0.45 & 0.00 & 0.00 & 0.0  & 0.0  & 0.00 & 0.00\\\\\n",
       "\t 0.00 & 0.42 & 0.49 & 0.56 & 0.17 & 0.04 & 0.39 & 0.47 & 0.28 & 0.32 & ⋯    & 0.00 & 0.01 & 0.21 & 0.02 & 0.00 & 0.00 & 0.0  & 0.0  & 0.00 & 0.00\\\\\n",
       "\t 0.04 & 0.77 & 1.00 & 0.08 & 0.12 & 0.10 & 0.51 & 0.50 & 0.34 & 0.21 & ⋯    & 0.00 & 0.02 & 0.39 & 0.28 & 0.00 & 0.00 & 0.0  & 0.0  & 0.00 & 0.00\\\\\n",
       "\t 0.01 & 0.55 & 0.02 & 0.95 & 0.09 & 0.05 & 0.38 & 0.38 & 0.23 & 0.36 & ⋯    & 0.00 & 0.04 & 0.09 & 0.02 & 0.00 & 0.00 & 0.0  & 0.0  & 0.00 & 0.00\\\\\n",
       "\t 0.02 & 0.28 & 0.06 & 0.54 & 1.00 & 0.25 & 0.31 & 0.48 & 0.27 & 0.37 & ⋯    & 0.00 & 0.01 & 0.58 & 0.10 & 0.00 & 0.00 & 0.0  & 0.0  & 0.00 & 0.00\\\\\n",
       "\\end{tabular}\n"
      ],
      "text/markdown": [
       "\n",
       "1 | 2 | 3 | 4 | 5 | 6 | 7 | 8 | 9 | 10 | ⋯ | 113 | 114 | 115 | 116 | 117 | 118 | 119 | 120 | 121 | 122 | \n",
       "|---|---|---|---|---|---|\n",
       "| 0.19 | 0.33 | 0.02 | 0.90 | 0.12 | 0.17 | 0.34 | 0.47 | 0.29 | 0.32 | ⋯    | 0.29 | 0.12 | 0.26 | 0.20 | 0.06 | 0.04 | 0.9  | 0.5  | 0.32 | 0.14 | \n",
       "| 0.00 | 0.16 | 0.12 | 0.74 | 0.45 | 0.07 | 0.26 | 0.59 | 0.35 | 0.27 | ⋯    | 0.00 | 0.02 | 0.12 | 0.45 | 0.00 | 0.00 | 0.0  | 0.0  | 0.00 | 0.00 | \n",
       "| 0.00 | 0.42 | 0.49 | 0.56 | 0.17 | 0.04 | 0.39 | 0.47 | 0.28 | 0.32 | ⋯    | 0.00 | 0.01 | 0.21 | 0.02 | 0.00 | 0.00 | 0.0  | 0.0  | 0.00 | 0.00 | \n",
       "| 0.04 | 0.77 | 1.00 | 0.08 | 0.12 | 0.10 | 0.51 | 0.50 | 0.34 | 0.21 | ⋯    | 0.00 | 0.02 | 0.39 | 0.28 | 0.00 | 0.00 | 0.0  | 0.0  | 0.00 | 0.00 | \n",
       "| 0.01 | 0.55 | 0.02 | 0.95 | 0.09 | 0.05 | 0.38 | 0.38 | 0.23 | 0.36 | ⋯    | 0.00 | 0.04 | 0.09 | 0.02 | 0.00 | 0.00 | 0.0  | 0.0  | 0.00 | 0.00 | \n",
       "| 0.02 | 0.28 | 0.06 | 0.54 | 1.00 | 0.25 | 0.31 | 0.48 | 0.27 | 0.37 | ⋯    | 0.00 | 0.01 | 0.58 | 0.10 | 0.00 | 0.00 | 0.0  | 0.0  | 0.00 | 0.00 | \n",
       "\n",
       "\n"
      ],
      "text/plain": [
       "     1    2    3    4    5    6    7    8    9    10   ⋯ 113  114  115  116 \n",
       "[1,] 0.19 0.33 0.02 0.90 0.12 0.17 0.34 0.47 0.29 0.32 ⋯ 0.29 0.12 0.26 0.20\n",
       "[2,] 0.00 0.16 0.12 0.74 0.45 0.07 0.26 0.59 0.35 0.27 ⋯ 0.00 0.02 0.12 0.45\n",
       "[3,] 0.00 0.42 0.49 0.56 0.17 0.04 0.39 0.47 0.28 0.32 ⋯ 0.00 0.01 0.21 0.02\n",
       "[4,] 0.04 0.77 1.00 0.08 0.12 0.10 0.51 0.50 0.34 0.21 ⋯ 0.00 0.02 0.39 0.28\n",
       "[5,] 0.01 0.55 0.02 0.95 0.09 0.05 0.38 0.38 0.23 0.36 ⋯ 0.00 0.04 0.09 0.02\n",
       "[6,] 0.02 0.28 0.06 0.54 1.00 0.25 0.31 0.48 0.27 0.37 ⋯ 0.00 0.01 0.58 0.10\n",
       "     117  118  119 120 121  122 \n",
       "[1,] 0.06 0.04 0.9 0.5 0.32 0.14\n",
       "[2,] 0.00 0.00 0.0 0.0 0.00 0.00\n",
       "[3,] 0.00 0.00 0.0 0.0 0.00 0.00\n",
       "[4,] 0.00 0.00 0.0 0.0 0.00 0.00\n",
       "[5,] 0.00 0.00 0.0 0.0 0.00 0.00\n",
       "[6,] 0.00 0.00 0.0 0.0 0.00 0.00"
      ]
     },
     "metadata": {},
     "output_type": "display_data"
    }
   ],
   "source": [
    "head(yActual)\n",
    "head(X)"
   ]
  },
  {
   "cell_type": "markdown",
   "metadata": {},
   "source": [
    "## Splitting Dataset\n",
    "\n",
    "I'm now splitting the data randomly into train and test sets to compare the predictive results from both OLS and ridge regression. I'm splitting the data ($40\\%$ test and $60\\%$ train) on the index values using the `sample()` function. I'll set the seed using `set.seed()`. Then I'm going to center and normalize the training set to have mean 0 and unit $\\ell_{2}$ norm.   "
   ]
  },
  {
   "cell_type": "code",
   "execution_count": 59,
   "metadata": {
    "collapsed": false
   },
   "outputs": [],
   "source": [
    "set.seed(123)\n",
    "\n",
    "testIdx <- c(sample(1:nrow(X), nrow(X) * .4))\n",
    "\n",
    "trainX <- X[-testIdx, ]\n",
    "testX <- X[testIdx, ]\n",
    "\n",
    "trainY <- yActual[-testIdx]\n",
    "testY <- yActual[testIdx]"
   ]
  },
  {
   "cell_type": "code",
   "execution_count": 60,
   "metadata": {
    "collapsed": false
   },
   "outputs": [],
   "source": [
    "colMeans <- colSums(trainX) / nrow(trainX)\n",
    "\n",
    "for(i in 1:ncol(trainX)) {\n",
    "    trainX[,i] <- trainX[,i] - colMeans[i]\n",
    "}\n",
    "\n",
    "scaling_factor <- 1 / sqrt(colSums(trainX^2))\n",
    "trainY <- trainY - mean(trainY)\n",
    "trainX <- trainX %*% diag(scaling_factor)"
   ]
  },
  {
   "cell_type": "markdown",
   "metadata": {},
   "source": [
    "## Fitting OLS and Ridge Regression\n",
    "\n",
    "Next, I'll fit the training set with both OLS and ridge regression. I'll use the SVD $(X_{train}=USV^{T})$ to compute coefficients over varying $\\lambda$ with ridge. Where the solution for: \n",
    "- $\\hat{\\beta}_{ridge}=VS_{\\lambda}U^{T}y_{train}$\n",
    "- $S_{\\lambda}=diag(\\frac{s_{1}}{s_{1}^{2}+\\lambda},...,\\frac{s_{D}}{s_{D}^{2}+\\lambda})$"
   ]
  },
  {
   "cell_type": "code",
   "execution_count": 58,
   "metadata": {
    "collapsed": false
   },
   "outputs": [],
   "source": [
    "SVD <- svd(trainX)\n",
    "lambda  <- exp(seq(from=-13, to=9,by=0.5))\n",
    "\n",
    "U <- SVD$u\n",
    "S <- SVD$d\n",
    "V <- SVD$v\n",
    "\n",
    "uTransY  <- t(U) %*% trainY\n",
    "beta_ridge  <- matrix(0, nrow=length(lambda), ncol=ncol(trainX))\n",
    "\n",
    "ols_coef <- V %*% diag(1 / S) %*% uTransY\n",
    "\n",
    "for(i in 1:length(lambda)) {\n",
    "    beta_ridge[i,] <- V %*% (diag((S / (S ^ 2 + lambda[i]))) %*% uTransY)\n",
    "}"
   ]
  },
  {
   "cell_type": "markdown",
   "metadata": {},
   "source": [
    "## Re-scaling/Adding an Intercept\n",
    "\n",
    "Next, we have to transform the coefficients back into the original scale and add an intercept to account for the centering and scaling we did originally."
   ]
  },
  {
   "cell_type": "code",
   "execution_count": 99,
   "metadata": {
    "collapsed": false
   },
   "outputs": [
    {
     "data": {},
     "metadata": {},
     "output_type": "display_data"
    },
    {
     "data": {
      "image/png": "[encoded data removed]",
      "text/plain": [
       "plot without title"
      ]
     },
     "metadata": {},
     "output_type": "display_data"
    }
   ],
   "source": [
    "library(ggplot2)\n",
    "\n",
    "beta_ols_rescaled <- ols_coef * scaling_factor\n",
    "ols_intercept  <- mean(yActual[-testIdx]) - sum(trainX %*% beta_ols_rescaled)\n",
    "\n",
    "beta_ridge_rescaled <- beta_ridge %*% diag(scaling_factor)\n",
    "\n",
    "pcL2Norm <- sqrt(colSums((U %*% diag(scaling_factor))^2))\n",
    "\n",
    "ggplot(data.frame(Rank=seq(1:length(pcL2Norm)),PcNorm=sort(pcL2Norm, decreasing = TRUE),PcCol=order(pcL2Norm, decreasing = TRUE)), aes(x=Rank, y=PcNorm))+\n",
    "geom_point() + geom_line() + theme_classic()"
   ]
  }
 ],
 "metadata": {
  "anaconda-cloud": {},
  "kernelspec": {
   "display_name": "R",
   "language": "R",
   "name": "ir"
  },
  "language_info": {
   "codemirror_mode": "r",
   "file_extension": ".r",
   "mimetype": "text/x-r-source",
   "name": "R",
   "pygments_lexer": "r",
   "version": "3.4.4"
  }
 },
 "nbformat": 4,
 "nbformat_minor": 2
}

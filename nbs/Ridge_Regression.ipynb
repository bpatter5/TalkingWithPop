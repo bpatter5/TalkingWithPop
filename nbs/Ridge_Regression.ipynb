{
 "cells": [
  {
   "cell_type": "markdown",
   "metadata": {},
   "source": [
    "# <center>OLS vs Ridge -  A Comparison</center>\n",
    "\n",
    "Standard OLS solves: $\\hat{\\beta}=\\{argmin_{\\beta}\\sum_{i=1}^{N}(y_{i}-\\beta_{0}-\\sum_{j=1}^{p}x_{ij}\\beta_{j})^{2}\\}$ solutions for which can be shown in matrix form to be:\n",
    "\n",
    "- $\\hat{\\beta}=(X^{T}X)^{-1}X^{T}y$\n",
    "\n",
    "Ridge regression adds an $\\ell_{2}$ penalty to the OLS minimization problem and becomes: \n",
    "$\\hat{\\beta}^{ridge}=\\{argmin_{\\beta}\\sum_{i=1}^{N}(y_{i}-\\beta_{0}-\\sum_{j=1}^{p}x_{ij}\\beta_{j})^{2} + \\lambda\\sum_{j=1}^{p}\\beta_{j}^{2}\\}$\n",
    " the solutions shown in matrix form become:\n",
    " - $\\hat{\\beta}^{ridge}=(X^{T}X+\\lambda I)^{-1}X^{T}y)$"
   ]
  },
  {
   "cell_type": "code",
   "execution_count": null,
   "metadata": {
    "collapsed": true
   },
   "outputs": [],
   "source": []
  },
  {
   "cell_type": "code",
   "execution_count": null,
   "metadata": {
    "collapsed": true
   },
   "outputs": [],
   "source": []
  }
 ],
 "metadata": {
  "kernelspec": {
   "display_name": "R",
   "language": "R",
   "name": "ir"
  },
  "language_info": {
   "codemirror_mode": "r",
   "file_extension": ".r",
   "mimetype": "text/x-r-source",
   "name": "R",
   "pygments_lexer": "r",
   "version": "3.4.1"
  }
 },
 "nbformat": 4,
 "nbformat_minor": 2
}
